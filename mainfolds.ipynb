{
 "cells": [
  {
   "cell_type": "markdown",
   "metadata": {},
   "source": [
    "## Manifolds\n",
    "The set of points (mathematical \"space\") that verify a constraint defined by an implicit equation\n",
    "\n",
    "## Riemannian Metrics\n",
    "Riemannian Metrics provide a notion of distance in manifolds and allow computations of manifold operations such as:\n",
    "In euclidean space:\n",
    "Elements:\n",
    "- Points\n",
    "- Vectors\n",
    "\n",
    "Operations:\n",
    "- Addition\n",
    "- Subtraction\n",
    "\n",
    "In a manifold M\n",
    "Elements: \n",
    "- Points on M\n",
    "- Tangent vectors on M\n",
    "\n",
    "Operations:\n",
    "- Exponential \n",
    "- Logarithms\n",
    "\n",
    "We use equivalences of these operations to work with metrics in manifolds "
   ]
  },
  {
   "cell_type": "markdown",
   "metadata": {},
   "source": [
    "1. Geometry: Instantiate shape space"
   ]
  },
  {
   "cell_type": "code",
   "execution_count": 2,
   "metadata": {},
   "outputs": [],
   "source": [
    "import geomstats.backend as gs \n",
    "import numpy as np\n",
    "from geomstats.geometry.pre_shape import PreShapeSpace, PreShapeMetric\n",
    "\n",
    "landmarks = np.random.random([2, 2]) \n",
    "space = PreShapeSpace(k_landmarks=2, ambient_dim=2)\n",
    "metric = PreShapeMetric (space = space)\n",
    "space.metric = metric"
   ]
  }
 ],
 "metadata": {
  "kernelspec": {
   "display_name": "base",
   "language": "python",
   "name": "python3"
  },
  "language_info": {
   "codemirror_mode": {
    "name": "ipython",
    "version": 3
   },
   "file_extension": ".py",
   "mimetype": "text/x-python",
   "name": "python",
   "nbconvert_exporter": "python",
   "pygments_lexer": "ipython3",
   "version": "3.9.19"
  }
 },
 "nbformat": 4,
 "nbformat_minor": 2
}
