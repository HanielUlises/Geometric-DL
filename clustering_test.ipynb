{
 "cells": [
  {
   "cell_type": "code",
   "execution_count": 1,
   "metadata": {},
   "outputs": [],
   "source": [
    "import geomstats.backend as gs "
   ]
  },
  {
   "cell_type": "code",
   "execution_count": 2,
   "metadata": {},
   "outputs": [],
   "source": [
    "from geomstats.geometry.hypersphere import Hypersphere\n",
    "from geomstats.learning.online_kmeans import OnlineKMeans\n",
    "\n",
    "sphere = Hypersphere(dim=5)\n",
    "\n",
    "data = sphere.random_uniform(n_samples=10)\n",
    "\n",
    "clustering = OnlineKMeans(sphere, n_clusters=4)\n",
    "clustering = clustering.fit(data)"
   ]
  },
  {
   "cell_type": "code",
   "execution_count": 3,
   "metadata": {},
   "outputs": [
    {
     "name": "stdout",
     "output_type": "stream",
     "text": [
      "[[ 0.84003317  0.16899264  0.45743076 -0.23772186  0.00526225  0.00186861]\n",
      " [ 0.04204448  0.1085655   0.18495124  0.74786058  0.61892966 -0.09934518]\n",
      " [-0.88158383  0.12246948  0.21718442 -0.05598992 -0.22905323 -0.3241016 ]\n",
      " [ 0.09244585  0.15163079  0.37557625  0.74975117 -0.0467789   0.51292228]\n",
      " [ 0.00366986 -0.89391989 -0.12899329  0.36666083  0.19547722  0.1077172 ]\n",
      " [-0.04943159 -0.05115672  0.68699372 -0.48709015  0.35470591  0.39988254]\n",
      " [ 0.20064422  0.40596046 -0.73036846  0.42939974 -0.22649934 -0.1606668 ]\n",
      " [ 0.0452201   0.3218206   0.74426691 -0.31265881  0.48451167 -0.08914212]\n",
      " [-0.15446147 -0.24998689  0.29724781 -0.10350763  0.84529344 -0.31631805]\n",
      " [-0.26028421 -0.57883075  0.12301298 -0.74375023 -0.16760173  0.02863848]]\n"
     ]
    }
   ],
   "source": [
    "print(data)"
   ]
  },
  {
   "cell_type": "code",
   "execution_count": 4,
   "metadata": {},
   "outputs": [],
   "source": [
    "from geomstats.geometry.special_orthogonal import SpecialOrthogonal\n",
    "from geomstats.learning.pca import TangentPCA\n",
    "\n",
    "so3 = SpecialOrthogonal(n=3, point_type=\"vector\")\n",
    "\n",
    "data = so3.random_uniform(n_samples=10)\n",
    "\n",
    "tpca = TangentPCA(so3, n_components=2)\n",
    "tpca = tpca.fit(data)\n",
    "tangent_projected_data = tpca.transform(data)"
   ]
  },
  {
   "cell_type": "code",
   "execution_count": 5,
   "metadata": {},
   "outputs": [
    {
     "name": "stdout",
     "output_type": "stream",
     "text": [
      "[[-0.48414313  0.01410719 -0.47784911]\n",
      " [-0.25040953 -0.75226541  0.57253806]\n",
      " [ 0.02420378 -0.41195978  0.61054228]\n",
      " [ 0.26342545  0.66112476 -0.7173716 ]\n",
      " [ 0.95184102  0.2349445  -0.85047189]\n",
      " [-0.73043537  0.03114379 -0.89415711]\n",
      " [-0.47002065  0.12135834 -0.20721681]\n",
      " [ 0.82517751 -0.11450789 -0.17509604]\n",
      " [-0.04768991  0.27006357  0.36675728]\n",
      " [ 0.32324218  0.99393347  0.95104423]]\n"
     ]
    }
   ],
   "source": [
    "print(data)"
   ]
  }
 ],
 "metadata": {
  "kernelspec": {
   "display_name": "base",
   "language": "python",
   "name": "python3"
  },
  "language_info": {
   "codemirror_mode": {
    "name": "ipython",
    "version": 3
   },
   "file_extension": ".py",
   "mimetype": "text/x-python",
   "name": "python",
   "nbconvert_exporter": "python",
   "pygments_lexer": "ipython3",
   "version": "3.9.19"
  }
 },
 "nbformat": 4,
 "nbformat_minor": 2
}
