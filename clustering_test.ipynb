{
 "cells": [
  {
   "cell_type": "code",
   "execution_count": 1,
   "metadata": {},
   "outputs": [],
   "source": [
    "import geomstats.backend as gs "
   ]
  },
  {
   "cell_type": "code",
   "execution_count": 10,
   "metadata": {},
   "outputs": [],
   "source": [
    "from geomstats.geometry.hypersphere import Hypersphere\n",
    "from geomstats.learning.online_kmeans import OnlineKMeans\n",
    "\n",
    "sphere = Hypersphere(dim=5)\n",
    "\n",
    "data = sphere.random_uniform(n_samples=10)\n",
    "\n",
    "clustering = OnlineKMeans(sphere, n_clusters=4)\n",
    "clustering = clustering.fit(data)"
   ]
  },
  {
   "cell_type": "code",
   "execution_count": 11,
   "metadata": {},
   "outputs": [
    {
     "name": "stdout",
     "output_type": "stream",
     "text": [
      "[[-0.2798571   0.18903341 -0.78506506 -0.07268447  0.50423506  0.10041512]\n",
      " [ 0.10363364 -0.23240507 -0.38538012 -0.76142026 -0.41595692 -0.18425294]\n",
      " [ 0.17172786  0.12758999  0.28236377  0.1133373  -0.5173586   0.77071121]\n",
      " [ 0.2957779  -0.17519319 -0.30267168 -0.63219299 -0.62279718 -0.05165591]\n",
      " [ 0.16862516 -0.42855562 -0.36983314 -0.10593612 -0.30665092  0.7388314 ]\n",
      " [ 0.23275825 -0.30556375  0.64387893 -0.45121342 -0.21343357  0.43442706]\n",
      " [-0.35262029 -0.40672413 -0.13758647 -0.60166634 -0.54233689  0.18754384]\n",
      " [ 0.720468    0.09265466 -0.23406024 -0.62391049  0.03589566  0.16432888]\n",
      " [ 0.49624429  0.29795423  0.04021913 -0.24228202  0.67312472  0.38929402]\n",
      " [ 0.16004616 -0.02063243  0.59822955  0.60765697 -0.39412901 -0.30248351]]\n"
     ]
    }
   ],
   "source": [
    "print(data)"
   ]
  },
  {
   "cell_type": "code",
   "execution_count": 13,
   "metadata": {},
   "outputs": [],
   "source": [
    "from geomstats.geometry.special_orthogonal import SpecialOrthogonal\n",
    "from geomstats.learning.pca import TangentPCA\n",
    "\n",
    "so3 = SpecialOrthogonal(n=3, point_type=\"vector\")\n",
    "\n",
    "data = so3.random_uniform(n_samples=10)\n",
    "\n",
    "tpca = TangentPCA(so3, n_components=2)\n",
    "tpca = tpca.fit(data)\n",
    "tangent_projected_data = tpca.transform(data)"
   ]
  },
  {
   "cell_type": "code",
   "execution_count": 14,
   "metadata": {},
   "outputs": [
    {
     "name": "stdout",
     "output_type": "stream",
     "text": [
      "[[-0.2622238  -0.50914657  0.53046353]\n",
      " [ 0.60741751  0.61001084 -0.02262062]\n",
      " [ 0.45217326  0.84395306  0.52565585]\n",
      " [-0.38789033  0.97725477 -0.29258325]\n",
      " [ 0.97561344  0.59453929 -0.02997239]\n",
      " [-0.46657197 -0.077669    0.04420179]\n",
      " [-0.89886094 -0.56982252  0.89145809]\n",
      " [-0.17225531 -0.40134351  0.76880539]\n",
      " [-0.57582128  0.66807027  0.0080885 ]\n",
      " [ 0.0483753   0.53222956  0.2447721 ]]\n"
     ]
    }
   ],
   "source": [
    "print(data)"
   ]
  }
 ],
 "metadata": {
  "kernelspec": {
   "display_name": "Python 3",
   "language": "python",
   "name": "python3"
  },
  "language_info": {
   "codemirror_mode": {
    "name": "ipython",
    "version": 3
   },
   "file_extension": ".py",
   "mimetype": "text/x-python",
   "name": "python",
   "nbconvert_exporter": "python",
   "pygments_lexer": "ipython3",
   "version": "3.10.12"
  }
 },
 "nbformat": 4,
 "nbformat_minor": 2
}
